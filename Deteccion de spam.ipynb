{
 "cells": [
  {
   "cell_type": "markdown",
   "id": "d1b3eb49-ba4e-4d42-b569-d7f588b97821",
   "metadata": {},
   "source": [
    "**Importamos librerias y procesamos texto**"
   ]
  },
  {
   "cell_type": "code",
   "execution_count": 20,
   "id": "523c8656-846d-431f-9914-94f6fbb66cad",
   "metadata": {},
   "outputs": [],
   "source": [
    "# Manipulación de datos\n",
    "import pandas as pd\n",
    "import numpy as np\n",
    "from time import time\n",
    "\n",
    "# Procesamiento de texto\n",
    "import re\n",
    "import nltk\n",
    "from nltk.corpus import stopwords\n",
    "from nltk.stem import WordNetLemmatizer\n",
    "from sklearn.feature_extraction.text import TfidfVectorizer\n",
    "\n",
    "# Machine Learning\n",
    "from sklearn.model_selection import train_test_split\n",
    "from sklearn.svm import SVC\n",
    "from sklearn.metrics import accuracy_score, confusion_matrix, classification_report\n",
    "\n",
    "# Visualización\n",
    "import matplotlib.pyplot as plt"
   ]
  },
  {
   "cell_type": "code",
   "execution_count": 21,
   "id": "382159dc-60fc-4cc9-85f0-19b3f888af2d",
   "metadata": {},
   "outputs": [
    {
     "name": "stderr",
     "output_type": "stream",
     "text": [
      "[nltk_data] Downloading package stopwords to\n",
      "[nltk_data]     C:\\Users\\Fabio\\AppData\\Roaming\\nltk_data...\n",
      "[nltk_data]   Package stopwords is already up-to-date!\n",
      "[nltk_data] Downloading package wordnet to\n",
      "[nltk_data]     C:\\Users\\Fabio\\AppData\\Roaming\\nltk_data...\n",
      "[nltk_data]   Package wordnet is already up-to-date!\n",
      "[nltk_data] Downloading package punkt to\n",
      "[nltk_data]     C:\\Users\\Fabio\\AppData\\Roaming\\nltk_data...\n",
      "[nltk_data]   Package punkt is already up-to-date!\n"
     ]
    },
    {
     "data": {
      "text/plain": [
       "True"
      ]
     },
     "execution_count": 21,
     "metadata": {},
     "output_type": "execute_result"
    }
   ],
   "source": [
    "# Descarga de recursos necesarios de NLTK\n",
    "nltk.download('stopwords')\n",
    "nltk.download('wordnet')\n",
    "nltk.download('punkt')"
   ]
  },
  {
   "cell_type": "markdown",
   "id": "5596eee0-8992-4d4c-bad9-eff82cb14ac3",
   "metadata": {},
   "source": [
    "**Cargamos y preparamos los datos**"
   ]
  },
  {
   "cell_type": "code",
   "execution_count": 24,
   "id": "f4fb9b98-f96b-4bb5-94ba-c2d116495def",
   "metadata": {},
   "outputs": [
    {
     "name": "stdout",
     "output_type": "stream",
     "text": [
      "<class 'pandas.core.frame.DataFrame'>\n",
      "RangeIndex: 5572 entries, 0 to 5571\n",
      "Data columns (total 3 columns):\n",
      " #   Column     Non-Null Count  Dtype \n",
      "---  ------     --------------  ----- \n",
      " 0   label      5572 non-null   object\n",
      " 1   message    5572 non-null   object\n",
      " 2   label_num  5572 non-null   int64 \n",
      "dtypes: int64(1), object(2)\n",
      "memory usage: 130.7+ KB\n",
      "None\n",
      "label\n",
      "ham     4825\n",
      "spam     747\n",
      "Name: count, dtype: int64\n"
     ]
    }
   ],
   "source": [
    "#Cargamos dataset\n",
    "spam_df = pd.read_csv('spam.csv', encoding='latin-1')\n",
    "\n",
    "# Eliminamos columnas innecesarias y renombramos las importantes (En el caso de las columnas vacias o irrelevantes)          \n",
    "spam_df = spam_df.drop(['Unnamed: 2', 'Unnamed: 3', 'Unnamed: 4'], axis=1)\n",
    "#v1 se renombra a label y v2 a message\n",
    "spam_df = spam_df.rename(columns={'v1': 'label', 'v2': 'message'})\n",
    "\n",
    "# Convertirmos las etiquetas a valores numercos (1: Spam, 0: No Spam)\n",
    "spam_df['label_num'] = spam_df['label'].map({'spam': 1, 'ham': 0})\n",
    "# Información básica del dataset\n",
    "print(spam_df.info())\n",
    "print(spam_df['label'].value_counts())"
   ]
  },
  {
   "cell_type": "code",
   "execution_count": 28,
   "id": "4bdbec23-0bc5-4a90-a7ee-93242f2ad8fd",
   "metadata": {},
   "outputs": [
    {
     "name": "stdout",
     "output_type": "stream",
     "text": [
      "label\n",
      "spam    4825\n",
      "ham     4825\n",
      "Name: count, dtype: int64\n"
     ]
    }
   ],
   "source": [
    "# Filtrar las clases\n",
    "spam = spam_df[spam_df['label'] == 'spam']\n",
    "ham = spam_df[spam_df['label'] == 'ham']\n",
    "\n",
    "# Duplicar la clase 'spam' hasta alcanzar el mismo número de 'ham'\n",
    "df_balanced = pd.concat([ham, spam.sample(len(ham), replace=True)])\n",
    "\n",
    "# Mezclar las filas para evitar patrones\n",
    "df_balanced = df_balanced.sample(frac=1).reset_index(drop=True)\n",
    "\n",
    "print(df_balanced['label'].value_counts())\n"
   ]
  },
  {
   "cell_type": "markdown",
   "id": "31b554bc-12b1-4482-882b-d742537ce0b1",
   "metadata": {},
   "source": [
    "**Preprocesamiento de texto**"
   ]
  },
  {
   "cell_type": "code",
   "execution_count": 29,
   "id": "bafb4735-fbab-46e6-af8a-f46b9b5b4b05",
   "metadata": {},
   "outputs": [
    {
     "name": "stdout",
     "output_type": "stream",
     "text": [
      "                                             message  \\\n",
      "0  FreeMsg: Fancy a flirt? Reply DATE now & join ...   \n",
      "1  Buy Space Invaders 4 a chance 2 win orig Arcad...   \n",
      "2  PRIVATE! Your 2003 Account Statement for shows...   \n",
      "3                          K:)eng rocking in ashes:)   \n",
      "4         SMS. ac sun0819 posts HELLO:\\You seem cool   \n",
      "\n",
      "                                   processed_message  \n",
      "0  freemsg fancy flirt reply date join uk fastest...  \n",
      "1  buy space invader chance win orig arcade game ...  \n",
      "2  private account statement show unredeemed poin...  \n",
      "3                                   keng rocking ash  \n",
      "4                  sm ac sun post helloyou seem cool  \n"
     ]
    }
   ],
   "source": [
    "# Función para preprocesar el texto, donde definimos la funcion\n",
    "def preprocess_text(text):\n",
    "    # Convertirmos a minúsculas\n",
    "    text = text.lower()\n",
    "    \n",
    "    # Eliminar caracteres no alfabéticos  (En el caso de Hola y hola lo tamaria como si fuera diferentes) se usa normalizacion, para eso se usa\n",
    "    ##Convierte el texto a minisculas\n",
    "    text = re.sub(r'[^a-zA-Z\\s]', '', text)\n",
    "    \n",
    "    # Tokenizar (Divide el texto en palabras individuales)\n",
    "    words = nltk.word_tokenize(text)\n",
    "    \n",
    "    # Eliminar stopwords (palabras comunes que no aportan mucho significado como \"the\", \"and\",\"is\"\n",
    "    stop_words = set(stopwords.words('english'))\n",
    "    words = [word for word in words if word not in stop_words]\n",
    "    \n",
    "    # Lematización (reduce las palabras a su forma base/raíz, como \"running\" se convierte en \"run\")\n",
    "    lemmatizer = WordNetLemmatizer()\n",
    "    words = [lemmatizer.lemmatize(word) for word in words]\n",
    "    \n",
    "    # Une las palabras procesadas en una sola cadena de texto, separadas por espacios \n",
    "    return ' '.join(words)\n",
    "\n",
    "# Aplica la función preprocess_text a cada mensaje en la columna message del DataFrame, esto asegura que todos los mensajes esten preprocesados y listos para ser utilizados\n",
    "df_balanced['processed_message'] = df_balanced['message'].apply(preprocess_text)\n",
    "# Mostrar ejemplos de mensajes preprocesados\n",
    "print(df_balanced[['message', 'processed_message']].head())"
   ]
  },
  {
   "cell_type": "markdown",
   "id": "cc2dd53a-4dc3-4b22-8d9d-503bb89ee382",
   "metadata": {},
   "source": [
    "**Conversión de texto a características numéricas o vectorizacion del texto con TF-IDF**"
   ]
  },
  {
   "cell_type": "code",
   "execution_count": 30,
   "id": "560dcd0d-39a2-4e0f-b52c-05f7dfacc240",
   "metadata": {},
   "outputs": [
    {
     "name": "stdout",
     "output_type": "stream",
     "text": [
      "Dimensiones de la matriz de características TF-IDF: (9650, 5000)\n"
     ]
    }
   ],
   "source": [
    "# Convertir texto a características usando TF-IDF\n",
    "#(TF): Mide la frecuencia de una palabra en un documento y (IDF) mide la importancia de una palabra en el conjunto de documentos)\n",
    "#Esto quiere decir crea un objeto TfidfVectorizer que se utilizará para convertir el texto en una matriz numérica basada en TF-IDF\n",
    "#(TfidfVectorizer) es una libreria que convierte txt en una matriz TF-IDF)\n",
    "#5000 Reduce la dimensionalidad y evita problemas de rendimiento\n",
    "tfidf_vectorizer = TfidfVectorizer(max_features=5000)\n",
    "\n",
    "#transforma el txt en un formato que los algoritmos de MachineLearning puedan entender\n",
    "X = tfidf_vectorizer.fit_transform(df_balanced['processed_message'])\n",
    "#asigna las etiquetas numéricas (label_num) a la variable y.\n",
    "#y es un vector que contiene las etiquetas correspondientes a cada mensaje en X.\n",
    "y = df_balanced['label_num']\n",
    "print(\"Dimensiones de la matriz de características TF-IDF:\", X.shape)"
   ]
  },
  {
   "cell_type": "markdown",
   "id": "83142dd6-3442-408b-90b3-2540aecb6631",
   "metadata": {},
   "source": [
    "**Division de datos**"
   ]
  },
  {
   "cell_type": "code",
   "execution_count": 31,
   "id": "141ebb66-02b9-49a9-8b78-71606cc5cfdf",
   "metadata": {},
   "outputs": [
    {
     "name": "stdout",
     "output_type": "stream",
     "text": [
      "Dimensiones del conjunto de entrenamiento: (7237, 5000)\n",
      "Dimensiones del conjunto de prueba: (2413, 5000)\n"
     ]
    }
   ],
   "source": [
    "# Dividir los datos en conjuntos de entrenamiento y prueba\n",
    "X_train, X_test, y_train, y_test = train_test_split(\n",
    "    X, y, test_size=0.25, random_state=42\n",
    ")\n",
    "print(\"Dimensiones del conjunto de entrenamiento:\", X_train.shape)\n",
    "print(\"Dimensiones del conjunto de prueba:\", X_test.shape)"
   ]
  },
  {
   "cell_type": "markdown",
   "id": "e270323d-8483-4dd4-b75a-b58b79268769",
   "metadata": {},
   "source": [
    "**Entrenamiento de los modelos SVM**"
   ]
  },
  {
   "cell_type": "code",
   "execution_count": 32,
   "id": "3f1d27f3-adc9-4ba0-ba79-c832c68d4c5b",
   "metadata": {},
   "outputs": [
    {
     "name": "stdout",
     "output_type": "stream",
     "text": [
      "Entrenando SVM con kernel lineal...\n",
      "Entrenamiento completado en 1.26 segundos\n",
      "\n",
      "Entrenando SVM con kernel RBF...\n",
      "Entrenamiento completado en 2.06 segundos\n"
     ]
    }
   ],
   "source": [
    "# Modelo SVM con kernel lineal\n",
    "print(\"Entrenando SVM con kernel lineal...\")\n",
    "hora_inicio = time()\n",
    "\n",
    "svm_linear = SVC(kernel='linear')\n",
    "svm_linear.fit(X_train, y_train)\n",
    "\n",
    "tiempo_linear = time() - hora_inicio\n",
    "print(f\"Entrenamiento completado en {tiempo_linear:.2f} segundos\")\n",
    "\n",
    "# Modelo SVM con kernel RBF\n",
    "print(\"\\nEntrenando SVM con kernel RBF...\")\n",
    "hora_inicio = time()\n",
    "\n",
    "svm_rbf = SVC(kernel='rbf')\n",
    "svm_rbf.fit(X_train, y_train)\n",
    "\n",
    "tiempo_rbf = time() - hora_inicio\n",
    "print(f\"Entrenamiento completado en {tiempo_rbf:.2f} segundos\")"
   ]
  },
  {
   "cell_type": "markdown",
   "id": "c4409e56-c56e-4a03-ae10-74e132a07ec1",
   "metadata": {},
   "source": [
    "**Evaluación de los modelos**"
   ]
  },
  {
   "cell_type": "code",
   "execution_count": 33,
   "id": "e8220d4d-0f2f-48a0-8700-fec90b0f1961",
   "metadata": {},
   "outputs": [
    {
     "name": "stdout",
     "output_type": "stream",
     "text": [
      "\n",
      "Evaluación del modelo con kernel lineal:\n",
      "Predicción completada en 0.3374 segundos\n",
      "Precisión del modelo lineal: 0.9934\n",
      "Matriz de confusión (kernel lineal):\n",
      "[[1182   12]\n",
      " [   4 1215]]\n",
      "\n",
      "Evaluación del modelo con kernel RBF:\n",
      "Predicción completada en 0.6118 segundos\n",
      "Precisión del modelo RBF: 0.9971\n",
      "Matriz de confusión (kernel RBF):\n",
      "[[1191    3]\n",
      " [   4 1215]]\n"
     ]
    }
   ],
   "source": [
    "# Evaluar modelo con kernel lineal\n",
    "print(\"\\nEvaluación del modelo con kernel lineal:\")\n",
    "hora_inicio = time()\n",
    "y_pred_linear = svm_linear.predict(X_test)\n",
    "print(f\"Predicción completada en {time() - hora_inicio:.4f} segundos\")\n",
    "\n",
    "precision_linear = accuracy_score(y_test, y_pred_linear)\n",
    "print(f\"Precisión del modelo lineal: {precision_linear:.4f}\")\n",
    "\n",
    "conf_matrix_linear = confusion_matrix(y_test, y_pred_linear)\n",
    "print(\"Matriz de confusión (kernel lineal):\")\n",
    "print(conf_matrix_linear)\n",
    "\n",
    "# Evaluar modelo con kernel RBF\n",
    "print(\"\\nEvaluación del modelo con kernel RBF:\")\n",
    "hora_inicio = time()\n",
    "y_pred_rbf = svm_rbf.predict(X_test)\n",
    "print(f\"Predicción completada en {time() - hora_inicio:.4f} segundos\")\n",
    "\n",
    "precision_rbf = accuracy_score(y_test, y_pred_rbf)\n",
    "print(f\"Precisión del modelo RBF: {precision_rbf:.4f}\")\n",
    "\n",
    "conf_matrix_rbf = confusion_matrix(y_test, y_pred_rbf)\n",
    "print(\"Matriz de confusión (kernel RBF):\")\n",
    "print(conf_matrix_rbf)"
   ]
  },
  {
   "cell_type": "markdown",
   "id": "d5896acd-1777-4447-a403-a5dbf60af489",
   "metadata": {},
   "source": [
    "**Visualización de resultados**"
   ]
  },
  {
   "cell_type": "code",
   "execution_count": 34,
   "id": "bcb3f95f-9e4f-4fbc-b304-71ed00638d0f",
   "metadata": {},
   "outputs": [
    {
     "data": {
      "image/png": "[encoded data removed]",
      "text/plain": [
       "<Figure size 800x600 with 2 Axes>"
      ]
     },
     "metadata": {},
     "output_type": "display_data"
    },
    {
     "data": {
      "image/png": "[encoded data removed]",
      "text/plain": [
       "<Figure size 800x600 with 2 Axes>"
      ]
     },
     "metadata": {},
     "output_type": "display_data"
    }
   ],
   "source": [
    "# Función para visualizar matrices de confusión\n",
    "def plot_cm(cm, classes, title='Matriz de confusión'):\n",
    "    plt.figure(figsize=(8, 6))\n",
    "    plt.imshow(cm, interpolation='nearest', cmap=plt.cm.Blues)\n",
    "    plt.title(title)\n",
    "    plt.colorbar()\n",
    "    tick_marks = np.arange(len(classes))\n",
    "    plt.xticks(tick_marks, classes, rotation=45)\n",
    "    plt.yticks(tick_marks, classes)\n",
    "    \n",
    "    # Anotar los valores en cada celda\n",
    "    thresh = cm.max() / 2.\n",
    "    for i in range(cm.shape[0]):\n",
    "        for j in range(cm.shape[1]):\n",
    "            plt.text(j, i, cm[i, j],\n",
    "                    horizontalalignment=\"center\",\n",
    "                    color=\"white\" if cm[i, j] > thresh else \"black\")\n",
    "    \n",
    "    plt.tight_layout()\n",
    "    plt.ylabel('Valor real')\n",
    "    plt.xlabel('Valor predicho')\n",
    "    plt.show()\n",
    "\n",
    "# Visualizar matriz de confusión para kernel lineal\n",
    "plot_cm(conf_matrix_linear, ['No Spam', 'Spam'], 'Matriz de confusión - Kernel Lineal')\n",
    "\n",
    "# Visualizar matriz de confusión para kernel RBF\n",
    "plot_cm(conf_matrix_rbf, ['No Spam', 'Spam'], 'Matriz de confusión - Kernel RBF')"
   ]
  },
  {
   "cell_type": "markdown",
   "id": "0356f71e-8dc2-45e3-af91-dddab8473b29",
   "metadata": {},
   "source": [
    "**Informes de clasificacion detallados**"
   ]
  },
  {
   "cell_type": "code",
   "execution_count": 35,
   "id": "45937dd3-2df9-48a5-bc42-6aa75eabe808",
   "metadata": {},
   "outputs": [
    {
     "name": "stdout",
     "output_type": "stream",
     "text": [
      "\n",
      "Informe de clasificación - Kernel Lineal:\n",
      "              precision    recall  f1-score   support\n",
      "\n",
      "     No Spam       1.00      0.99      0.99      1194\n",
      "        Spam       0.99      1.00      0.99      1219\n",
      "\n",
      "    accuracy                           0.99      2413\n",
      "   macro avg       0.99      0.99      0.99      2413\n",
      "weighted avg       0.99      0.99      0.99      2413\n",
      "\n",
      "\n",
      "Informe de clasificación - Kernel RBF:\n",
      "              precision    recall  f1-score   support\n",
      "\n",
      "     No Spam       1.00      1.00      1.00      1194\n",
      "        Spam       1.00      1.00      1.00      1219\n",
      "\n",
      "    accuracy                           1.00      2413\n",
      "   macro avg       1.00      1.00      1.00      2413\n",
      "weighted avg       1.00      1.00      1.00      2413\n",
      "\n"
     ]
    },
    {
     "data": {
      "image/png": "[encoded data removed]",
      "text/plain": [
       "<Figure size 1000x600 with 1 Axes>"
      ]
     },
     "metadata": {},
     "output_type": "display_data"
    }
   ],
   "source": [
    "# Comparación de rendimiento entre modelos\n",
    "print(\"\\nInforme de clasificación - Kernel Lineal:\")\n",
    "print(classification_report(y_test, y_pred_linear, target_names=['No Spam', 'Spam']))\n",
    "\n",
    "print(\"\\nInforme de clasificación - Kernel RBF:\")\n",
    "print(classification_report(y_test, y_pred_rbf, target_names=['No Spam', 'Spam']))\n",
    "\n",
    "# Visualizar comparación de precisión\n",
    "modelos = ['Kernel Lineal', 'Kernel RBF']\n",
    "precisiones = [precision_linear, precision_rbf]\n",
    "\n",
    "plt.figure(figsize=(10, 6))\n",
    "plt.bar(modelos, precisiones, color=['blue', 'green'])\n",
    "plt.title('Comparación de Precisión entre Modelos SVM')\n",
    "plt.ylabel('Precisión')\n",
    "plt.ylim([0, 1])\n",
    "\n",
    "# Añadir etiquetas de valor en cada barra\n",
    "for i, v in enumerate(precisiones):\n",
    "    plt.text(i, v + 0.01, f'{v:.4f}', ha='center')\n",
    "\n",
    "plt.tight_layout()\n",
    "plt.show()"
   ]
  },
  {
   "cell_type": "markdown",
   "id": "8725abc3-3e3f-4f99-b4a2-a23946340e83",
   "metadata": {},
   "source": [
    "**Función para clasificar nuevos mensajes**"
   ]
  },
  {
   "cell_type": "code",
   "execution_count": 98,
   "id": "e93d61e2-8f88-4c4f-86cc-99d78a89f0da",
   "metadata": {},
   "outputs": [
    {
     "name": "stdout",
     "output_type": "stream",
     "text": [
      "\n",
      "Clasificación de mensajes de prueba usando el modelo SVM con kernel lineal:\n",
      "Mensaje: WINNER!! As a valued network customer you have bee... -> SPAM\n",
      "Mensaje: Hi Tom, how are you doing? Do you want to meet up ... -> NO SPAM\n",
      "Mensaje: Congratulations! You've won a free iPhone. Click h... -> SPAM\n",
      "Mensaje: Meeting is postponed until tomorrow 10am. Please i... -> NO SPAM\n"
     ]
    }
   ],
   "source": [
    "def clasificar_mensaje(mensaje, vectorizador, modelo):\n",
    "    # Preprocesar el mensaje\n",
    "    mensaje_procesado = preprocess_text(mensaje)\n",
    "    \n",
    "    # Vectorizar\n",
    "    X_mensaje = vectorizador.transform([mensaje_procesado])\n",
    "    \n",
    "    # Predecir\n",
    "    prediccion = modelo.predict(X_mensaje)[0]\n",
    "    \n",
    "    # Retornar resultado\n",
    "    if prediccion == 1:\n",
    "        return \"SPAM\"\n",
    "    else:\n",
    "        return \"NO SPAM\"\n",
    "\n",
    "# Ejemplo de uso\n",
    "mensajes_prueba = [\n",
    "    \"WINNER!! As a valued network customer you have been selected to receivea £900 prize reward! To claim call 09061701461. Claim code KL341. Valid 12 hours only.\",\n",
    "    \"Hi Tom, how are you doing? Do you want to meet up for coffee this weekend?\",\n",
    "    \"Congratulations! You've won a free iPhone. Click here to claim your prize now!\",\n",
    "    \"Meeting is postponed until tomorrow 10am. Please inform the team.\"\n",
    "]\n",
    "\n",
    "print(\"\\nClasificación de mensajes de prueba usando el modelo SVM con kernel lineal:\")\n",
    "for mensaje in mensajes_prueba:\n",
    "    resultado = clasificar_mensaje(mensaje, tfidf_vectorizer, svm_linear)\n",
    "    print(f\"Mensaje: {mensaje[:50]}... -> {resultado}\")"
   ]
  }
 ],
 "metadata": {
  "kernelspec": {
   "display_name": "Python 3 (ipykernel)",
   "language": "python",
   "name": "python3"
  },
  "language_info": {
   "codemirror_mode": {
    "name": "ipython",
    "version": 3
   },
   "file_extension": ".py",
   "mimetype": "text/x-python",
   "name": "python",
   "nbconvert_exporter": "python",
   "pygments_lexer": "ipython3",
   "version": "3.12.7"
  }
 },
 "nbformat": 4,
 "nbformat_minor": 5
}
